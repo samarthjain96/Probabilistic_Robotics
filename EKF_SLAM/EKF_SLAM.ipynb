{
 "cells": [
  {
   "cell_type": "markdown",
   "metadata": {},
   "source": [
    "# EKFSLAM\n",
    "\n",
    "### SLAM\n",
    "\n",
    "In robotic mapping and navigation, simultaneous localization and mapping (SLAM) is the computational problem of constructing or updating a map of an unknown environment while simultaneously keeping track of an agent's location within it. While this initially appears to be a chicken-and-egg problem there are several algorithms known for solving it, at least approximately, in tractable time for certain environments. Popular approximate solution methods include the particle filter and extended Kalman filter."
   ]
  },
  {
   "cell_type": "code",
   "execution_count": 1,
   "metadata": {},
   "outputs": [],
   "source": [
    "from __future__ import division\n",
    "import numpy as np\n",
    "import numpy.linalg as la\n",
    "import scipy.linalg as sla\n",
    "from IPython.display import display\n",
    "import matplotlib.pyplot as plt\n",
    "import seaborn\n"
   ]
  },
  {
   "cell_type": "markdown",
   "metadata": {},
   "source": [
    "### Robot Motion Class\n",
    "Our 2D robot has a state vector consisting of $(x, y , \\theta)^T$. We assume that our robot follows a nonlinear dynamics model implemented with a velocity controller on $v$ and $\\omega$. Together $(v,\\omega)^T = u$. Thus,\n",
    "$\\mathbf{x}_t = f(\\mathbf{x}_{t-1},u)$\n",
    "where\n",
    "\n",
    "$$f(\\mathbf{x}_{t-1},u) = \n",
    "\\begin{bmatrix}\n",
    "x_{t-1} \\\\\n",
    "y_{t-1} \\\\\n",
    "\\theta_{t-1}\n",
    "\\end{bmatrix} + \n",
    "\\begin{bmatrix}\n",
    "-\\frac{v}{\\omega}\\sin{\\theta_{t-1}} + \\frac{v}{\\omega}\\sin{(\\theta_{t-1} + \\omega \\Delta t)} \\\\\n",
    "\\frac{v}{\\omega}\\cos{\\theta_{t-1}} - \\frac{v}{\\omega}\\cos{(\\theta_{t-1} + \\omega \\Delta t)} \\\\\n",
    "\\omega \\Delta t\n",
    "\\end{bmatrix}$$\n",
    "\n",
    "We assume that with our control input $u$ we have associated noise \n",
    "\n",
    "$$\n",
    "\\begin{bmatrix}\n",
    "\\hat{v} \\\\\n",
    "\\hat{\\omega}\n",
    "\\end{bmatrix} =\n",
    "\\begin{bmatrix}\n",
    "v \\\\\n",
    "\\omega\n",
    "\\end{bmatrix}\n",
    "+ \n",
    "\\begin{bmatrix}\n",
    "\\varepsilon_{\\alpha_1 v^2 + \\alpha_2 \\omega^2} \\\\\n",
    "\\varepsilon_{\\alpha_3 v^2 + \\alpha_4 \\omega^2}\n",
    "\\end{bmatrix}$$\n",
    "\n",
    "where $\\varepsilon_{b^2} \\sim \\mathcal{N}(0,b^2)$\n",
    "\n",
    "Note: the velocity motion model doesn't work for straight line motion, this is because we divide by $\\omega$.\n"
   ]
  },
  {
   "cell_type": "code",
   "execution_count": 2,
   "metadata": {},
   "outputs": [],
   "source": [
    "\n",
    "class VCRobot(object):\n",
    "    '''\n",
    "    Class to implement a velocity controlled two-wheeled robot\n",
    "    \n",
    "    The robot has state (x, y, theta) \n",
    "    The motion model is described in Probabilistic Robotics by Thrun ch. 5d\n",
    "    '''\n",
    "    def __init__(self, dt, alpha):\n",
    "        '''\n",
    "        member variables:\n",
    "        dt - time step\n",
    "        alpha - numpy array (4) describing noise characteristics\n",
    "        '''\n",
    "        self.dt = dt\n",
    "        self.alpha = alpha\n",
    "    \n",
    "    def generate_motion(self,v,w,x0):\n",
    "        '''\n",
    "        inputs:\n",
    "        v - numpy array (T) describing velocity\n",
    "        w - numpy array (T) describing angular velocity\n",
    "        x0 - numpy array (3) describing initial position\n",
    "        \n",
    "        outputs:\n",
    "        X - numpy array (T,3) describing state at each time step\n",
    "        '''\n",
    "        np.random.seed(420)\n",
    "        dt = self.dt\n",
    "        alpha = self.alpha\n",
    "        T = len(v)\n",
    "        \n",
    "        X = np.zeros((T+1,3))\n",
    "        X[0,:] = x0\n",
    "        \n",
    "        for t in range(T):\n",
    "            var1 = alpha[0]*v[t]**2 + alpha[1]*w[t]**2\n",
    "            var2 = alpha[2]*v[t]**2 + alpha[3]*w[t]**2\n",
    "            v_hat = v[t] + np.sqrt(var1)*np.random.randn()\n",
    "            w_hat = w[t] + np.sqrt(var2)*np.random.randn()\n",
    "            stheta = np.sin(X[t,2])\n",
    "            ctheta = np.cos(X[t,2])\n",
    "            sthetap = np.sin(X[t,2] + dt*w_hat)\n",
    "            cthetap = np.cos(X[t,2] + dt*w_hat)\n",
    "            \n",
    "            X[t+1,0] = X[t,0] - v_hat/w_hat*stheta + v_hat/w_hat*sthetap\n",
    "            X[t+1,1] = X[t,1] + v_hat/w_hat*ctheta - v_hat/w_hat*cthetap\n",
    "            X[t+1,2] = X[t,2] + w_hat*dt\n",
    "        \n",
    "        return X"
   ]
  },
  {
   "cell_type": "code",
   "execution_count": 3,
   "metadata": {},
   "outputs": [],
   "source": [
    "dt = .1\n",
    "alpha = np.array([.1, .01, .01, .1])\n",
    "t = np.arange(0,40.1, dt)\n",
    "x0 = np.array([-5, -3, np.pi/2])\n",
    "N_landmarks = 50\n",
    "\n",
    "Y = np.zeros((N_landmarks,3))\n",
    "np.random.seed(420)\n",
    "Y[:,0] = np.random.uniform(low=-20., high=20., size=N_landmarks)\n",
    "Y[:,1] = np.random.uniform(low=-20., high=20., size=N_landmarks)\n",
    "Y[:,2] = np.arange(N_landmarks)\n",
    "\n",
    "R = np.array([[.001, .0, .0],\n",
    "              [.0, .001, .0],\n",
    "              [.0, .0, .0001]])\n",
    "\n",
    "v = 1 + .5*np.cos(.4*np.pi*t)\n",
    "w = -.2 + 2*np.cos(1.2*np.pi*t)\n",
    "robot = VCRobot(dt, alpha)\n",
    "X = robot.generate_motion(v,w,x0)\n"
   ]
  },
  {
   "cell_type": "markdown",
   "metadata": {},
   "source": [
    "### Landmarks\n",
    "As seen in the plot above, we assume there are a number of stationary landmarks from which the robot can take range and bearing measurements. Since these landmarks have fixed position, we can use these measurements to determine our location and bearing. For each landmark $m$ we have an associated $\\mathbf{x}_m = (x_m, y_m)^T$ denoting it's position. Since range is a norm and the bearing uses arctangent, this measurement model is inherently nonlinear. We denote this by\n",
    "$\\mathbf{z}_{t,m} = h(\\mathbf{x}_{t}, \\mathbf{x}_{m}, u)$.\n",
    "Explicitly,\n",
    "\n",
    "$$h(\\mathbf{x}_t, \\mathbf{x}_m, u) = \n",
    "\\begin{bmatrix}\n",
    "\\sqrt{(x_m - x_t)^2 + (y_m - y_t)^2} \\\\\n",
    "\\arctan2{\\frac{y_m - y_t}{x_m - x_t}} \\\\\n",
    "s_m\n",
    "\\end{bmatrix}\n",
    "$$\n",
    "\n",
    "Note: In this case and many others, our measurement model does not directly depend on our control input $u$. Also, $s_m$ is the signature associated with a landmark, in this case, we assume known correspondences of objects."
   ]
  },
  {
   "cell_type": "code",
   "execution_count": 4,
   "metadata": {},
   "outputs": [],
   "source": [
    "class LandmarkSensor(object):\n",
    "    '''\n",
    "    Class to simulate a landmark sensor\n",
    "    This is a basic range-bearing sensor in 2D\n",
    "    '''\n",
    "    \n",
    "    def __init__(self, Y, R, alpha):\n",
    "        '''\n",
    "        member variables:\n",
    "        Y - numpy array (m, 2) locations of the landmarks\n",
    "        R - noise covariance associated with range and bearing\n",
    "        alpha - FOV of the camera in radians\n",
    "        '''\n",
    "        self.Y = Y\n",
    "        self.R = R\n",
    "        self.alpha = alpha\n",
    "        \n",
    "    def simulate(self, X):\n",
    "        '''\n",
    "        inputs:\n",
    "        X - numpy array (T,3) of vehicle state (x,y, theta)\n",
    "        \n",
    "        outputs:\n",
    "        Z - numpy array (T,3*m) of range/bearing/signature measurements\n",
    "        '''\n",
    "        Y = self.Y\n",
    "        m, _ = Y.shape\n",
    "        \n",
    "        # Note: this will need to be fixed when we limit the FOV of the robot\n",
    "        Z = []\n",
    "        \n",
    "        for i in range(m):\n",
    "            z = np.zeros(3)\n",
    "            z[0] = np.linalg.norm(X[:2] - self.Y[i,:2])\n",
    "            z[1] = np.arctan2(self.Y[i,1] - X[1], self.Y[i,0] - X[0]) - X[2]\n",
    "            \n",
    "            z += np.random.multivariate_normal(np.zeros(3), self.R)\n",
    "            # wrap relative bearing\n",
    "            if z[1] > np.pi:\n",
    "                z[1] = z[1] - 2*np.pi\n",
    "            if z[1] < -np.pi:\n",
    "                z[1] = z[1] + 2*np.pi\n",
    "            z[2] = Y[i,2]\n",
    "            if np.abs(z[1]) < self.alpha/2:\n",
    "                Z.append(z)\n",
    "        \n",
    "        Z = np.array(Z) \n",
    "        return Z"
   ]
  },
  {
   "cell_type": "code",
   "execution_count": 5,
   "metadata": {},
   "outputs": [
    {
     "name": "stdout",
     "output_type": "stream",
     "text": [
      "[[ 7.58884008 -0.07019789  0.        ]\n",
      " [11.39616078  0.05135259  2.        ]\n",
      " [18.60973405  0.2653731  10.        ]\n",
      " [ 8.09341943  0.37427285 13.        ]\n",
      " [ 2.75071803 -0.0753604  16.        ]\n",
      " [ 6.37352955  0.15535694 29.        ]\n",
      " [22.20860664 -0.13831892 30.        ]\n",
      " [20.98022904 -0.2865478  41.        ]\n",
      " [14.30485537 -0.250783   46.        ]]\n"
     ]
    }
   ],
   "source": [
    "rbsensor = LandmarkSensor(Y, R, np.pi/4)\n",
    "Z = rbsensor.simulate(X[6,:])\n",
    "print(Z)"
   ]
  },
  {
   "cell_type": "code",
   "execution_count": 6,
   "metadata": {},
   "outputs": [],
   "source": [
    "class EKFSLAM(object):\n",
    "    '''\n",
    "    Class to implement an Extended Kalman Filter SLAM\n",
    "    for a system with noise on control inputs\n",
    "    '''\n",
    "    \n",
    "    def __init__(self,x0,R):\n",
    "        '''\n",
    "        Class Variables:\n",
    "        f(x,u) - function handle nonlinear state transition\n",
    "        h(x,u) - function handle nonlinear measurement model\n",
    "        F(x,u) - function handle Jacobian of state w/ respect to state\n",
    "        G(x,u) - function handle Jacobian of state w/ respect to input\n",
    "        H(x,u) - function handle Jacobian of measurement w/ respect to state\n",
    "        Q(u) - function handle Covariance of input\n",
    "        R - numpy matrix (mxm) sensor noise covariance\n",
    "        '''\n",
    "        inf = 1e15\n",
    "        self.mu = np.zeros(3*N_landmarks + 3)\n",
    "        self.mu[0:3] = x0\n",
    "        self.cov = np.matrix(inf*np.eye(3*N_landmarks + 3))\n",
    "        self.cov[0,0] = 0\n",
    "        self.cov[1,1] = 0\n",
    "        self.cov[2,2] = 0\n",
    "        self.seen = N_landmarks*[False]\n",
    "\n",
    "        self.R = R\n",
    "        \n",
    "    def f(self, x, u):\n",
    "        xp = np.zeros_like(x)\n",
    "        v = u[0]\n",
    "        w = u[1]\n",
    "        stheta = np.sin(x[2])\n",
    "        ctheta = np.cos(x[2])\n",
    "        sthetap = np.sin(x[2] + dt*w)\n",
    "        cthetap = np.cos(x[2] + dt*w)\n",
    "        xp[0] = x[0] - v/w*stheta + v/w*sthetap\n",
    "        xp[1] = x[1] + v/w*ctheta - v/w*cthetap\n",
    "        xp[2] = x[2] + w*dt\n",
    "        return xp \n",
    "    \n",
    "    def h(self,x,y,u):\n",
    "        zp = np.zeros(3)\n",
    "    \n",
    "        zp[0] = np.linalg.norm(x[0:2] - y[0:2])\n",
    "        zp[1] = np.arctan2(y[1] - x[1], y[0] - x[0]) - x[2]\n",
    "        if zp[1] > np.pi:\n",
    "            zp[1] -= 2*np.pi\n",
    "        elif zp[1] < -np.pi:\n",
    "            zp[1] += 2*np.pi\n",
    "        zp[2] = y[2]\n",
    "        return zp\n",
    "    \n",
    "    def F(self,x,u):\n",
    "        n = x.shape[0]\n",
    "        v = u[0]\n",
    "        w = u[1]\n",
    "        stheta = np.sin(x[2])\n",
    "        ctheta = np.cos(x[2])\n",
    "        sthetap = np.sin(x[2] + dt*w)\n",
    "        cthetap = np.cos(x[2] + dt*w)\n",
    "    \n",
    "        F = np.matrix(np.zeros((n,n)))\n",
    "        F[0,2] = -v/w*ctheta + v/w*cthetap\n",
    "        F[1,2] = -v/w*stheta + v/w*sthetap\n",
    "        return F\n",
    "    \n",
    "    def G(self,x,u):\n",
    "        n = x.shape[0]\n",
    "        k = u.shape[0]\n",
    "        v = u[0]\n",
    "        w = u[1]\n",
    "        stheta = np.sin(x[2])\n",
    "        ctheta = np.cos(x[2])\n",
    "        sthetap = np.sin(x[2] + dt*w)\n",
    "        cthetap = np.cos(x[2] + dt*w)\n",
    "    \n",
    "        G = np.matrix(np.zeros((n,k)))\n",
    "        G[0,0] = (-stheta + sthetap)/w\n",
    "        G[0,1] = v*(stheta-sthetap)/(w**2) + v*(ctheta*dt)/w\n",
    "        G[1,0] = (ctheta - cthetap)/w\n",
    "        G[1,1] = -v*(ctheta - cthetap)/(w**2) + v*(stheta*dt)/w\n",
    "        G[2,1] = dt\n",
    "        return G\n",
    "\n",
    "    def H(self,x,y,u):\n",
    "        H = np.matrix(np.zeros((3,6)))\n",
    "        dx = y[0] - x[0]\n",
    "        dy = y[1] - x[1]\n",
    "        q = (y[0] - x[0])**2 + (y[1] - x[1])**2\n",
    "        sq = np.sqrt(q)\n",
    "        H[0,0] = -(dx)/sq\n",
    "        H[0,1] = -(dy)/sq\n",
    "        H[0,2] = 0\n",
    "        H[0,3] = dx/sq\n",
    "        H[0,4] = dy/sq\n",
    "        H[0,5] = 0\n",
    "        H[1,0] = dy/q\n",
    "        H[1,1] = -dx/q\n",
    "        H[1,2] = -1\n",
    "        H[1,3] = -dy/q\n",
    "        H[1,4] = dx/q\n",
    "        H[1,5] = 0\n",
    "        H[2,5] = 1\n",
    "        return H\n",
    "\n",
    "    def Q(self,u):\n",
    "        k = u.shape[0]\n",
    "        v = u[0]\n",
    "        w = u[1]\n",
    "        Q = np.matrix(np.zeros((k,k)))\n",
    "        Q[0,0] = alpha[0]*v**2 + alpha[1]*w**2\n",
    "        Q[1,1] = alpha[2]*v**2 + alpha[3]*w**2\n",
    "        return Q\n",
    "    \n",
    "    def filter(self,z,u):\n",
    "        '''\n",
    "        z - (n_landmarks_seen x 3)\n",
    "        u - control input\n",
    "        Filters the the slam problem over 1 time step\n",
    "        '''\n",
    "        # Prediction\n",
    "        self.mu[0:3] = self.f(self.mu[0:3],u)\n",
    "        Fx = np.matrix(np.zeros((3,3*N_landmarks + 3)))\n",
    "        Fx[0,0] = 1\n",
    "        Fx[1,1] = 1\n",
    "        Fx[2,2] = 1\n",
    "        F = np.matrix(np.eye(3*N_landmarks+3))+Fx.T*self.F(self.mu[0:3],u)*Fx\n",
    "        G = 5*self.G(self.mu[0:3],u) \n",
    "\n",
    "        self.cov = F*self.cov*F.T + Fx.T*G*self.Q(u)*G.T*Fx  #Scaling up the input covariance\n",
    "        \n",
    "        if z.size == 0:\n",
    "            return np.copy(self.mu), np.copy(self.cov)\n",
    "        \n",
    "        l = z[:,2]\n",
    "        for j,s in enumerate(l):\n",
    "            #Measurement Update\n",
    "            s = int(s)\n",
    "            if self.seen[s] == False:\n",
    "                self.mu[3*(s+1)] = self.mu[0] + z[j, 0]*np.cos(z[j,1] + self.mu[2])\n",
    "                self.mu[3*(s+1) + 1] = self.mu[1] + z[j, 0]*np.sin(z[j,1] + self.mu[2])\n",
    "                self.mu[3*(s+1) + 2] = s\n",
    "                self.seen[s] = True\n",
    "                \n",
    "            y = self.mu[3*(s+1):3*(s+1)+3]\n",
    "            z_hat = self.h(self.mu[:3],y,u)\n",
    "            Fxj = np.matrix(np.zeros((6, 3*N_landmarks + 3)))\n",
    "            Fxj[0,0] = 1\n",
    "            Fxj[1,1] = 1\n",
    "            Fxj[2,2] = 1\n",
    "            Fxj[3,3*(s+1)] = 1\n",
    "            Fxj[4, 3*(s+1)+1] = 1\n",
    "            Fxj[5, 3*(s+1)+2] = 1\n",
    "            H = self.H(self.mu[:3],y,u)*Fxj\n",
    "            \n",
    "            K = self.cov*H.T*(la.inv(H*self.cov*H.T + self.R))\n",
    "            \n",
    "            innovation = z[j] - z_hat\n",
    "            if innovation[1] > np.pi:\n",
    "                innovation[1] -= 2*np.pi\n",
    "            elif innovation[1] < -np.pi:\n",
    "                innovation += 2*np.pi\n",
    "            innovation = np.matrix(innovation).T\n",
    "            update = np.array(K*innovation).flatten()\n",
    "            self.mu += update\n",
    "            self.cov = (np.eye(3*N_landmarks+3) - K*H).dot(self.cov)\n",
    "            \n",
    "        return np.copy(self.mu), np.copy(self.cov)"
   ]
  },
  {
   "cell_type": "code",
   "execution_count": 7,
   "metadata": {},
   "outputs": [],
   "source": [
    "U = np.column_stack([v, w])\n",
    "x0 = np.array([-5, -3, np.pi/2])\n",
    "x_hat = x0\n",
    "ekf = EKFSLAM(x0,R)\n"
   ]
  },
  {
   "cell_type": "code",
   "execution_count": 8,
   "metadata": {
    "scrolled": false
   },
   "outputs": [],
   "source": [
    "X_hat = []\n",
    "Cov_hat = []\n",
    "for t,u in enumerate(U):\n",
    "    z = rbsensor.simulate(X[t+1])\n",
    "    x_hat, Cov = ekf.filter(z,u)\n",
    "    X_hat.append(x_hat)\n",
    "    Cov_hat.append(Cov)  "
   ]
  },
  {
   "cell_type": "code",
   "execution_count": 9,
   "metadata": {},
   "outputs": [],
   "source": [
    "X_hat = np.array(X_hat)"
   ]
  },
  {
   "cell_type": "code",
   "execution_count": 10,
   "metadata": {},
   "outputs": [
    {
     "data": {
      "image/png": "[encoded data removed]",
      "text/plain": [
       "<Figure size 432x288 with 1 Axes>"
      ]
     },
     "metadata": {
      "needs_background": "light"
     },
     "output_type": "display_data"
    }
   ],
   "source": [
    "plt.plot(X[:,0],X[:,1],label=\"Truth\")\n",
    "plt.plot(X_hat[:,0], X_hat[:,1],label=\"Estimate\")\n",
    "plt.title(\"Robot Location\")\n",
    "plt.legend()\n",
    "plt.show()"
   ]
  },
  {
   "cell_type": "code",
   "execution_count": 11,
   "metadata": {},
   "outputs": [
    {
     "data": {
      "image/png": "[encoded data removed]",
      "text/plain": [
       "<Figure size 432x288 with 1 Axes>"
      ]
     },
     "metadata": {
      "needs_background": "light"
     },
     "output_type": "display_data"
    }
   ],
   "source": [
    "plt.plot(X[:,0],label=\"Truth\")\n",
    "plt.plot(X_hat[:,0],label=\"Estimate\")\n",
    "plt.title(\"X Position\")\n",
    "plt.legend()\n",
    "plt.show()"
   ]
  },
  {
   "cell_type": "code",
   "execution_count": 12,
   "metadata": {},
   "outputs": [
    {
     "data": {
      "image/png": "[encoded data removed]",
      "text/plain": [
       "<Figure size 432x288 with 1 Axes>"
      ]
     },
     "metadata": {
      "needs_background": "light"
     },
     "output_type": "display_data"
    }
   ],
   "source": [
    "plt.plot(X[:,1],label=\"Truth\")\n",
    "plt.plot(X_hat[:,1],label=\"Estimate\")\n",
    "plt.title(\"Y Position\")\n",
    "plt.legend()\n",
    "plt.show()"
   ]
  },
  {
   "cell_type": "code",
   "execution_count": 13,
   "metadata": {},
   "outputs": [
    {
     "data": {
      "image/png": "[encoded data removed]",
      "text/plain": [
       "<Figure size 432x288 with 1 Axes>"
      ]
     },
     "metadata": {
      "needs_background": "light"
     },
     "output_type": "display_data"
    }
   ],
   "source": [
    "plt.plot(X[:,2],label=\"Truth\")\n",
    "plt.plot(X_hat[:,2],label=\"Estimate\")\n",
    "plt.title(\"Theta\")\n",
    "plt.legend()\n",
    "plt.show()"
   ]
  },
  {
   "cell_type": "code",
   "execution_count": null,
   "metadata": {},
   "outputs": [],
   "source": []
  }
 ],
 "metadata": {
  "kernelspec": {
   "display_name": "Python 3",
   "language": "python",
   "name": "python3"
  },
  "language_info": {
   "codemirror_mode": {
    "name": "ipython",
    "version": 3
   },
   "file_extension": ".py",
   "mimetype": "text/x-python",
   "name": "python",
   "nbconvert_exporter": "python",
   "pygments_lexer": "ipython3",
   "version": "3.7.6"
  },
  "widgets": {
   "state": {},
   "version": "1.1.2"
  }
 },
 "nbformat": 4,
 "nbformat_minor": 2
}
